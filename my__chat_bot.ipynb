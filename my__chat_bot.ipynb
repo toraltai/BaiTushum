{
  "nbformat": 4,
  "nbformat_minor": 0,
  "metadata": {
    "colab": {
      "provenance": [],
      "include_colab_link": true
    },
    "kernelspec": {
      "name": "python3",
      "display_name": "Python 3"
    },
    "language_info": {
      "name": "python"
    }
  },
  "cells": [
    {
      "cell_type": "markdown",
      "metadata": {
        "id": "view-in-github",
        "colab_type": "text"
      },
      "source": [
        "<a href=\"https://colab.research.google.com/github/toraltai/BaiTushum/blob/main/my__chat_bot.ipynb\" target=\"_parent\"><img src=\"https://colab.research.google.com/assets/colab-badge.svg\" alt=\"Open In Colab\"/></a>"
      ]
    },
    {
      "cell_type": "code",
      "source": [
        "! python3 train.py"
      ],
      "metadata": {
        "colab": {
          "base_uri": "https://localhost:8080/"
        },
        "id": "0nRnEUUM6PHU",
        "outputId": "31db09d6-08ff-4daf-9c84-c7854c3ff4d5"
      },
      "execution_count": null,
      "outputs": [
        {
          "output_type": "stream",
          "name": "stdout",
          "text": [
            "[nltk_data] Downloading package punkt to /root/nltk_data...\n",
            "[nltk_data]   Unzipping tokenizers/punkt.zip.\n",
            "8 patterns\n",
            "3 tags: ['greeting', 'whoami', 'work']\n",
            "15 unique stemmed words: ['здрасти', 'кто', 'мне', 'можешь', 'нибудь', 'о', 'покажи', 'помоги', 'привет', 'разобраться', 'расскажи', 'себе', 'тук', 'ты', 'что']\n",
            "15 3\n",
            "Epoch [100/1000], Loss: 0.9092\n",
            "Epoch [200/1000], Loss: 0.4555\n",
            "Epoch [300/1000], Loss: 0.1354\n",
            "Epoch [400/1000], Loss: 0.0442\n",
            "Epoch [500/1000], Loss: 0.0204\n",
            "Epoch [600/1000], Loss: 0.0109\n",
            "Epoch [700/1000], Loss: 0.0061\n",
            "Epoch [800/1000], Loss: 0.0042\n",
            "Epoch [900/1000], Loss: 0.0030\n",
            "Epoch [1000/1000], Loss: 0.0023\n",
            "final loss: 0.0023\n",
            "training complete. file saved to data.pth\n"
          ]
        }
      ]
    },
    {
      "cell_type": "code",
      "source": [
        "!python3 chat.py"
      ],
      "metadata": {
        "id": "ZRg5wTnp6x4y"
      },
      "execution_count": null,
      "outputs": []
    }
  ]
}